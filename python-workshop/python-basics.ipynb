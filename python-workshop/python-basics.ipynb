{
 "cells": [
  {
   "cell_type": "markdown",
   "metadata": {},
   "source": [
    "# Python Basics"
   ]
  },
  {
   "cell_type": "markdown",
   "metadata": {},
   "source": [
    "#Getting input from user\n",
    "input() function is a standar I/O python function that is used to take input from users"
   ]
  },
  {
   "cell_type": "markdown",
   "metadata": {},
   "source": [
    "# Conditional Statements\n"
   ]
  },
  {
   "cell_type": "code",
   "execution_count": 42,
   "metadata": {},
   "outputs": [
    {
     "name": "stdout",
     "output_type": "stream",
     "text": [
      "Enter you age: 10\n",
      "Age after 10 years :  20\n"
     ]
    }
   ],
   "source": [
    "#Since age is a number (int), we are type-casting it using int()  function\n",
    "age = int(input(\"Enter you age: \"))\n",
    "age = age + 10\n",
    "print(\"Age after 10 years : \",age)"
   ]
  },
  {
   "cell_type": "code",
   "execution_count": 43,
   "metadata": {},
   "outputs": [
    {
     "name": "stdout",
     "output_type": "stream",
     "text": [
      "2020 is the worst\n"
     ]
    }
   ],
   "source": [
    "year = 2020\n",
    "\n",
    "if year==2020:\n",
    "    print(\"2020 is the worst\")"
   ]
  },
  {
   "cell_type": "markdown",
   "metadata": {},
   "source": [
    "### If-else"
   ]
  },
  {
   "cell_type": "markdown",
   "metadata": {},
   "source": [
    "### Simple if"
   ]
  },
  {
   "cell_type": "code",
   "execution_count": 44,
   "metadata": {},
   "outputs": [
    {
     "name": "stdout",
     "output_type": "stream",
     "text": [
      "Enter a number : 5\n",
      "It's a positive number\n",
      "If part is executed\n"
     ]
    }
   ],
   "source": [
    "num = int(input(\"Enter a number : \"))\n",
    "\n",
    "if num > 0:\n",
    "    print(\"It's a positive number\")\n",
    "    print(\"If part is executed\")\n",
    "else :\n",
    "    print(\"It's a negative number\")"
   ]
  },
  {
   "cell_type": "markdown",
   "metadata": {},
   "source": [
    "### if-elif-else"
   ]
  },
  {
   "cell_type": "code",
   "execution_count": 45,
   "metadata": {},
   "outputs": [
    {
     "name": "stdout",
     "output_type": "stream",
     "text": [
      "Enter a number : 6\n",
      "It's a positive number\n"
     ]
    }
   ],
   "source": [
    "num = int(input(\"Enter a number : \"))\n",
    "\n",
    "if num > 0:\n",
    "    print(\"It's a positive number\")\n",
    "elif num == 0 :\n",
    "    print(\"It's zero\")\n",
    "else :\n",
    "    print(\"It's a negative number\")"
   ]
  },
  {
   "cell_type": "markdown",
   "metadata": {},
   "source": [
    "### Nested if"
   ]
  },
  {
   "cell_type": "code",
   "execution_count": 46,
   "metadata": {},
   "outputs": [
    {
     "name": "stdout",
     "output_type": "stream",
     "text": [
      "Enter a number : 7\n",
      "It's a positive odd number\n"
     ]
    }
   ],
   "source": [
    "num = int(input(\"Enter a number : \"))\n",
    "\n",
    "if num > 0:\n",
    "    if num%2==0:\n",
    "        print(\"It's a positive even number\")\n",
    "    else:\n",
    "        print(\"It's a positive odd number\")\n",
    "elif num == 0 :\n",
    "    print(\"It's zero\")\n",
    "else :\n",
    "    print(\"It's a negative number\")"
   ]
  },
  {
   "cell_type": "markdown",
   "metadata": {},
   "source": [
    "# Loops"
   ]
  },
  {
   "cell_type": "markdown",
   "metadata": {},
   "source": [
    "# for-loop"
   ]
  },
  {
   "cell_type": "markdown",
   "metadata": {},
   "source": [
    "![](https://blog.penjee.com/wp-content/uploads/2020/02/python-loop-over-list-foreach-diagram-border.png)"
   ]
  },
  {
   "cell_type": "markdown",
   "metadata": {},
   "source": [
    "![](//cdn.programiz.com/sites/tutorial2program/files/forLoop.jpg)"
   ]
  },
  {
   "cell_type": "code",
   "execution_count": 47,
   "metadata": {},
   "outputs": [
    {
     "name": "stdout",
     "output_type": "stream",
     "text": [
      "Welcome, Rishabh\n",
      "Welcome, Srinidhi\n",
      "Welcome, Ameesha\n",
      "Welcome, Venki\n",
      "Welcome, Nabha\n",
      "\n",
      "\n",
      " Using For Loop \n",
      "\n",
      "\n",
      "Welcome, Rishabh\n",
      "Welcome, Srinidhi\n",
      "Welcome, Ameesha\n",
      "Welcome, Venki\n",
      "Welcome, Nabha\n"
     ]
    }
   ],
   "source": [
    "print(\"Welcome, Rishabh\")\n",
    "print(\"Welcome, Srinidhi\")\n",
    "print(\"Welcome, Ameesha\")\n",
    "print(\"Welcome, Venki\")\n",
    "print(\"Welcome, Nabha\")\n",
    "\n",
    "print(\"\\n\\n Using For Loop \\n\\n\")\n",
    "\n",
    "names_list = ['Rishabh','Srinidhi','Ameesha','Venki','Nabha']\n",
    "\n",
    "for val in names_list:\n",
    "    print(\"Welcome,\", val)\n"
   ]
  },
  {
   "cell_type": "markdown",
   "metadata": {},
   "source": [
    "Write a program to calculate sum of a list - [2, 10, 9, 7, 5, 10, 26]"
   ]
  },
  {
   "cell_type": "code",
   "execution_count": 48,
   "metadata": {},
   "outputs": [
    {
     "name": "stdout",
     "output_type": "stream",
     "text": [
      "Sum is : 669\n"
     ]
    }
   ],
   "source": [
    "num_list = [2, 10, 9, 7, 5, 10, 26, 100, 200, 300]\n",
    "sum=0\n",
    "for i in num_list:\n",
    "    sum = sum+i\n",
    "print(\"Sum is :\",sum)\n",
    "#This statement is outside the for-loop"
   ]
  },
  {
   "cell_type": "markdown",
   "metadata": {},
   "source": [
    "range() function\n",
    "\n",
    "We can generate a sequence of numbers using range() function. range(10) will generate numbers from 0 to 9 (10 numbers).\n",
    "\n",
    "We can also define the start, stop and step size as range(start, stop, step_size). step_size defaults to 1 if not provided."
   ]
  },
  {
   "cell_type": "code",
   "execution_count": 18,
   "metadata": {},
   "outputs": [
    {
     "name": "stdout",
     "output_type": "stream",
     "text": [
      "0\n",
      "3\n",
      "6\n",
      "9\n"
     ]
    }
   ],
   "source": [
    "for j in range(0,10):\n",
    "    print(j)"
   ]
  },
  {
   "cell_type": "code",
   "execution_count": 38,
   "metadata": {},
   "outputs": [
    {
     "name": "stdout",
     "output_type": "stream",
     "text": [
      "10\n",
      "8\n",
      "6\n",
      "4\n",
      "2\n"
     ]
    }
   ],
   "source": [
    "#You can use negative step-size\n",
    "for j in range(10,0,-2):\n",
    "    print(j)"
   ]
  },
  {
   "cell_type": "markdown",
   "metadata": {},
   "source": [
    "#### Exercise : Write a function to print multiples of 3 till 30\n"
   ]
  },
  {
   "cell_type": "markdown",
   "metadata": {},
   "source": [
    "### for inside a for"
   ]
  },
  {
   "cell_type": "code",
   "execution_count": 49,
   "metadata": {},
   "outputs": [
    {
     "name": "stdout",
     "output_type": "stream",
     "text": [
      "*\r\n",
      "**\r\n",
      "***\r\n",
      "****\r\n",
      "*****\r\n"
     ]
    }
   ],
   "source": [
    "for i in range(0,5):\n",
    "    for j in range(0,i+1):\n",
    "        print('*',end=\"\")\n",
    "    print(\"\\r\")\n",
    "    \n",
    "#By default, print() will print a new line, by using 'end' - we can print any character"
   ]
  },
  {
   "cell_type": "raw",
   "metadata": {},
   "source": [
    "### Exercise : Write a program to print the below star pattern \n",
    "\n",
    "*****\n",
    "****\n",
    "***\n",
    "**\n",
    "*"
   ]
  },
  {
   "cell_type": "markdown",
   "metadata": {},
   "source": [
    "### break, continue and pass"
   ]
  },
  {
   "cell_type": "markdown",
   "metadata": {},
   "source": [
    "The <strong>break</strong> statement is used to terminate the loop or statement in which it is present <br><br>\n",
    "The  <strong>continue</strong> statement is opposite to that of break statement, instead of terminating the loop, it forces to execute the next iteration of the loop. <br><br>\n",
    "The  <strong>pass</strong> statement in Python is used when a statement is required syntactically but you do not want any command or code to execute  \n",
    "    "
   ]
  },
  {
   "cell_type": "code",
   "execution_count": 50,
   "metadata": {},
   "outputs": [
    {
     "name": "stdout",
     "output_type": "stream",
     "text": [
      "Welcome, Rishabh\n",
      "Welcome, Ameesha\n",
      "Welcome, Venki\n",
      "Welcome, Nabha\n"
     ]
    }
   ],
   "source": [
    "names_list = ['Rishabh','Srinidhi','Ameesha','Venki','Nabha']\n",
    "\n",
    "for name in names_list:\n",
    "    if name == 'Srinidhi':\n",
    "        continue\n",
    "    print(\"Welcome,\", name)"
   ]
  },
  {
   "cell_type": "code",
   "execution_count": 51,
   "metadata": {},
   "outputs": [
    {
     "name": "stdout",
     "output_type": "stream",
     "text": [
      "Welcome, Rishabh\n",
      "Welcome, Srinidhi\n",
      "Welcome, Ameesha\n",
      "Came out of the loop\n"
     ]
    }
   ],
   "source": [
    "names_list = ['Rishabh','Srinidhi','Ameesha','Venki','Nabha']\n",
    "\n",
    "for name in names_list:\n",
    "    if name == 'Venki':\n",
    "        break\n",
    "    print(\"Welcome,\", name)\n",
    "print(\"Came out of the loop\")"
   ]
  },
  {
   "cell_type": "code",
   "execution_count": 52,
   "metadata": {},
   "outputs": [],
   "source": [
    "names_list = ['Rishabh','Srinidhi','Ameesha','Venki','Nabha']\n",
    "\n",
    "for name in names_list:\n",
    "    pass   #I'll add the code for this after lunch"
   ]
  },
  {
   "cell_type": "markdown",
   "metadata": {},
   "source": [
    "### Write a function to print numbers till 30 that are multiples of 3 but not multiples of 5"
   ]
  },
  {
   "cell_type": "markdown",
   "metadata": {},
   "source": [
    "# while-loop"
   ]
  },
  {
   "cell_type": "markdown",
   "metadata": {},
   "source": [
    "\n",
    "![](https://blog.penjee.com/wp-content/uploads/2015/03/while-loop-animation-python.gif)"
   ]
  },
  {
   "cell_type": "markdown",
   "metadata": {},
   "source": [
    "![](//cdn.programiz.com/sites/tutorial2program/files/whileLoopFlowchart.jpg)"
   ]
  },
  {
   "cell_type": "code",
   "execution_count": 53,
   "metadata": {},
   "outputs": [
    {
     "name": "stdout",
     "output_type": "stream",
     "text": [
      "Hello\n",
      "Hello\n",
      "Hello\n",
      "Hello\n",
      "Hello\n",
      "Hello\n",
      "Hello\n",
      "Hello\n",
      "Hello\n",
      "Hello\n"
     ]
    }
   ],
   "source": [
    "a = 10\n",
    "while a > 0:\n",
    "    print(\"Hello\")\n",
    "    a = a-1\n"
   ]
  },
  {
   "cell_type": "code",
   "execution_count": 39,
   "metadata": {},
   "outputs": [],
   "source": [
    "### while-loop without a proper test condition can result in infinite loop"
   ]
  },
  {
   "cell_type": "markdown",
   "metadata": {},
   "source": [
    "## Guess the number"
   ]
  },
  {
   "cell_type": "code",
   "execution_count": 54,
   "metadata": {},
   "outputs": [
    {
     "name": "stdout",
     "output_type": "stream",
     "text": [
      "I am thinking of a number between 1 and 10\n",
      "Take a guess.8\n",
      "Good job! You guessed my number in 1 guesses!\n"
     ]
    }
   ],
   "source": [
    "import random\n",
    "randomNumber = random.randint(1, 10)\n",
    "print('I am thinking of a number between 1 and 10')\n",
    "\n",
    "# Player gets 4 chances to guess\n",
    "for i in range(1, 5):\n",
    "    guess = int(input('Take a guess.'))\n",
    "\n",
    "    if guess < randomNumber:\n",
    "        print('Your guess is too low.')\n",
    "    elif guess > randomNumber:\n",
    "        print('Your guess is too high.')\n",
    "    else:\n",
    "        break    # This condition is the correct guess!\n",
    "\n",
    "if guess == randomNumber:\n",
    "    print('Good job! You guessed my number in ' + str(i) + ' guesses!')\n",
    "else:\n",
    "    print('Nope. The number I was thinking of was ' + str(randomNumber))"
   ]
  },
  {
   "cell_type": "markdown",
   "metadata": {},
   "source": [
    "## Functions"
   ]
  },
  {
   "cell_type": "code",
   "execution_count": 55,
   "metadata": {},
   "outputs": [],
   "source": [
    "#Creating a function\n",
    "def greetFunction():\n",
    "    print(\"Good Morning\")\n",
    "    "
   ]
  },
  {
   "cell_type": "code",
   "execution_count": 56,
   "metadata": {},
   "outputs": [
    {
     "name": "stdout",
     "output_type": "stream",
     "text": [
      "Good Morning\n"
     ]
    }
   ],
   "source": [
    "#Calling a function\n",
    "greetFunction()"
   ]
  },
  {
   "cell_type": "code",
   "execution_count": 57,
   "metadata": {},
   "outputs": [],
   "source": [
    "#Passing an argument\n",
    "def greetFunction(name):\n",
    "    print(\"Good Morning,\",name)\n",
    "    "
   ]
  },
  {
   "cell_type": "code",
   "execution_count": 58,
   "metadata": {},
   "outputs": [
    {
     "name": "stdout",
     "output_type": "stream",
     "text": [
      "Good Morning, Sukanya\n"
     ]
    }
   ],
   "source": [
    "greetFunction('Sukanya')"
   ]
  },
  {
   "cell_type": "code",
   "execution_count": 59,
   "metadata": {},
   "outputs": [],
   "source": [
    "### Write a calculator program that takes two numbers and does 'addition', 'multiplication'"
   ]
  },
  {
   "cell_type": "code",
   "execution_count": 60,
   "metadata": {},
   "outputs": [],
   "source": [
    "def addNumbers(a, b):\n",
    "    total = a + b\n",
    "    return total\n",
    "\n",
    "def multiplyNumbers(a,b):\n",
    "    total = a * b\n",
    "    return total\n",
    "\n",
    "\n"
   ]
  },
  {
   "cell_type": "code",
   "execution_count": 61,
   "metadata": {},
   "outputs": [
    {
     "name": "stdout",
     "output_type": "stream",
     "text": [
      "Product is  83417637\n",
      "Sum is  3716\n"
     ]
    }
   ],
   "source": [
    "#Calling a function\n",
    "\n",
    "product = multiplyNumbers(28383,2939)\n",
    "print(\"Product is \", product)\n",
    "\n",
    "result = addNumbers(1983, 1733)\n",
    "print(\"Sum is \",result)"
   ]
  },
  {
   "cell_type": "code",
   "execution_count": null,
   "metadata": {},
   "outputs": [],
   "source": []
  }
 ],
 "metadata": {
  "kernelspec": {
   "display_name": "Python 3",
   "language": "python",
   "name": "python3"
  },
  "language_info": {
   "codemirror_mode": {
    "name": "ipython",
    "version": 3
   },
   "file_extension": ".py",
   "mimetype": "text/x-python",
   "name": "python",
   "nbconvert_exporter": "python",
   "pygments_lexer": "ipython3",
   "version": "3.9.0"
  }
 },
 "nbformat": 4,
 "nbformat_minor": 4
}
